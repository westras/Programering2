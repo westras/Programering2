{
 "cells": [
  {
   "cell_type": "markdown",
   "id": "71303d46",
   "metadata": {
    "id": "71303d46"
   },
   "source": [
    "# Inkapsling – Övningar\n",
    "*Datum:* 2025-09-09"
   ]
  },
  {
   "cell_type": "markdown",
   "id": "7b151fc8",
   "metadata": {
    "id": "7b151fc8"
   },
   "source": [
    "## Uppgift 1\n",
    "Skapa klass med privat __hemlighet och metod visa_hemlighet()."
   ]
  },
  {
   "cell_type": "markdown",
   "id": "4827af4b",
   "metadata": {
    "id": "4827af4b"
   },
   "source": [
    "\n",
    "Skapa en klass med ett **privat attribut** och en **metod** för att visa dess värde.\n",
    "\n",
    "**Förklaring:**\n",
    "\n",
    "*   Ett **privat attribut** (använd `__` i början av namnet, t.ex. `__hemlighet`) är en variabel inuti klassen som är tänkt att vara dold och inte nås direkt utifrån. Det är som en hemlighet som klassen skyddar.\n",
    "*   För att komma åt värdet på det privata attributet skapar du en **metod** (t.ex. `visa_hemlighet()`). Denna metod agerar som en \"kontrollerad dörr\" – det är det enda sättet att säkert få reda på det hemliga värdet.\n",
    "\n",
    "**Uppgift:**\n",
    "\n",
    "1.  Skapa en klass.\n",
    "2.  Inuti klassen, definiera ett privat attribut (`__namn`) och ge det ett värde.\n",
    "3.  Skapa en metod som returnerar värdet av detta privata attribut.\n",
    "4.  Testa: Skapa ett objekt och använd metoden för att skriva ut det privata värdet."
   ]
  },
  {
   "cell_type": "code",
   "execution_count": null,
   "id": "f2de0bc6",
   "metadata": {
    "colab": {
     "base_uri": "https://localhost:8080/",
     "height": 211
    },
    "executionInfo": {
     "elapsed": 26,
     "status": "error",
     "timestamp": 1758617075115,
     "user": {
      "displayName": "westras",
      "userId": "00366436898058476171"
     },
     "user_tz": -120
    },
    "id": "f2de0bc6",
    "outputId": "a74790fb-d455-452a-d784-c0447b647a8e"
   },
   "outputs": [
    {
     "ename": "",
     "evalue": "",
     "output_type": "error",
     "traceback": [
      "\u001b[1;31mRunning cells with 'Python 3.12.5' requires the ipykernel package.\n",
      "\u001b[1;31m<a href='command:jupyter.createPythonEnvAndSelectController'>Create a Python Environment</a> with the required packages.\n",
      "\u001b[1;31mOr install 'ipykernel' using the command: 'c:/Users/EDUrawe1/AppData/Local/Programs/Python/Python312/python.exe -m pip install ipykernel -U --user --force-reinstall'"
     ]
    }
   ],
   "source": [
    "# TODO\n",
    "class hemlig():\n",
    "  def __init__(self,hemligtnummer=4): #vi gör en __init__ där vi har vårat hemliga nummer\n",
    "    self.__hemligtnummer = hemligtnummer #vi lägger __före hemligt nummer för att göra den privat\n",
    "\n",
    "  def visa_hemlighet(self): #vi gör en metod i classen som visar det hemliga nummret\n",
    "    print(self.__hemligtnummer)\n",
    "\n",
    "print(hemlig().visa_hemlighet()) #om vi använder metoden för att visa så ser vi hemliga nummret\n",
    "print(hemlig().__hemligtnummer) #prövar vi bara att printa det får vi \"none\" och sedan felmeddelande\n"
   ]
  },
  {
   "cell_type": "markdown",
   "id": "4b635013",
   "metadata": {
    "id": "4b635013"
   },
   "source": [
    "## Uppgift 2\n",
    "Skapa Bankkonto med insättning(), uttag(), saldo()."
   ]
  },
  {
   "cell_type": "markdown",
   "id": "0ea66eca",
   "metadata": {
    "id": "0ea66eca"
   },
   "source": [
    "\n",
    "Skapa en klass som heter `Bankkonto`.\n",
    "\n",
    "Den här klassen ska simulera ett enkelt bankkonto.\n",
    "\n",
    "*   Klassen ska ha en intern variabel (som är privat, t.ex. `__saldo`) för att lagra den aktuella **saldot** på kontot. Börja saldot på 0 (eller ett valfritt startvärde) när ett nytt `Bankkonto`-objekt skapas.\n",
    "*   Skapa en metod som heter `insättning(belopp)`. Denna metod ska ta emot ett belopp och lägga till det till det aktuella saldot. En insättning ökar alltid saldot.\n",
    "*   Skapa en metod som heter `uttag(belopp)`. Denna metod ska ta emot ett belopp och dra bort det från det aktuella saldot. **Viktigt:** Ett uttag ska bara genomföras om det finns tillräckligt med pengar på kontot (om beloppet är mindre än eller lika med det aktuella saldot). Annars ska uttaget inte genomföras.\n",
    "*   Lägg till en metod som heter `saldo()`. Denna metod ska returnera det aktuella saldot på kontot, så att man kan se hur mycket pengar som finns kvar.\n",
    "\n",
    "**Exempel:**\n",
    "Du ska kunna skapa ett bankkonto, sätta in pengar, ta ut pengar (om möjligt), och sedan se det aktuella saldot."
   ]
  },
  {
   "cell_type": "code",
   "execution_count": null,
   "id": "b596ad16",
   "metadata": {
    "colab": {
     "base_uri": "https://localhost:8080/"
    },
    "executionInfo": {
     "elapsed": 10,
     "status": "ok",
     "timestamp": 1759218497419,
     "user": {
      "displayName": "westras",
      "userId": "00366436898058476171"
     },
     "user_tz": -120
    },
    "id": "b596ad16",
    "outputId": "7c5a791a-0610-41f7-cecc-fb7165c605dd"
   },
   "outputs": [],
   "source": [
    "# TODO\n",
    "class Bankkonto():\n",
    "  def __init__(self,saldo=0): #klass med init och inkapslad/ hemlig saldo\n",
    "    self.__saldo = saldo\n",
    "\n",
    "  def insättning(self,belopp): #en metod för att lägga till pengar\n",
    "    self.__saldo += belopp\n",
    "    return self #returnar self\n",
    "\n",
    "  def uttag(self,belopp):#metod för att ta ut pengar\n",
    "    if belopp <= self.__saldo:#om beloppet vi ska ta ut är mindre eller lika med saldot vi har så tas pengarna bort annars returnas inte något nytt värde\n",
    "      self.__saldo -= belopp\n",
    "    return self\n",
    "\n",
    "  def saldo(self):\n",
    "    return self.__saldo #returnerar det hemliga talet\n",
    "\n",
    "\n",
    "konto = Bankkonto() #skapar variabel för klass\n",
    "print(konto.insättning(100).uttag(90).saldo())#printar koden"
   ]
  },
  {
   "cell_type": "markdown",
   "id": "0cef9529",
   "metadata": {
    "id": "0cef9529"
   },
   "source": [
    "## Uppgift 3\n",
    "Skapa Person med privat ålder och property som inte tillåter <0."
   ]
  },
  {
   "cell_type": "markdown",
   "id": "85cd41fe",
   "metadata": {
    "id": "85cd41fe"
   },
   "source": [
    "\n",
    "Skapa en klass som heter `Person`.\n",
    "\n",
    "Den här klassen ska representera en person och hålla reda på deras ålder.\n",
    "\n",
    "*   Klassen ska ha en intern variabel (som är privat) för att lagra personens **ålder**.\n",
    "*   Använd en **property** för att hantera åtkomsten till åldern.\n",
    "\n",
    "**Vad är en property?**\n",
    "\n",
    "En **property** i Python är ett speciellt sätt att hantera åtkomsten till en variabels värde. Tänk på det som en \"kontrollerad dörr\" till din variabels värde. Istället för att läsa eller ändra variabeln direkt, går du genom den här dörren.\n",
    "\n",
    "En property låter dig definiera metoder för att:\n",
    "1.  **Hämta** värdet (getter).\n",
    "2.  **Sätta** värdet (setter).\n",
    "3.  **Ta bort** värdet (deleter - mindre vanlig här).\n",
    "\n",
    "I den här uppgiften ska vi använda en **property** för att:\n",
    "\n",
    "*   Låta oss hämta värdet på åldern (getter).\n",
    "*   **Viktigast:** Kontrollera värdet när vi försöker sätta en ny ålder (setter). Vi vill se till att åldern **inte kan vara negativ** (mindre än 0). Om någon försöker sätta en ålder som är negativ, ska det inte tillåtas (eller så kan du skriva ut ett meddelande om det).\n",
    "\n",
    "**Varför använda en property här?**\n",
    "\n",
    "Att använda en property för åldern är användbart för att:\n",
    "*   **Skydda data:** Förhindra att ogiltiga värden (som negativa åldrar) sparas i objektet.\n",
    "*   **Kontrollera logik:** Lägga till extra logik (som validering) när data sätts.\n",
    "*   **Göra koden renare:** Det ser ut som att du direkt läser/skriver till ett attribut, men bakom kulisserna körs dina getter/setter-metoder.\n",
    "\n",
    "**Exempel:**\n",
    "Du ska kunna skapa ett `Person`-objekt med en ålder, hämta åldern, och försöka sätta en ny ålder. Testa att sätta både en giltig (positiv) ålder och en ogiltig (negativ) ålder för att se hur din property hanterar det."
   ]
  },
  {
   "cell_type": "code",
   "execution_count": null,
   "id": "d360bdfb",
   "metadata": {
    "colab": {
     "base_uri": "https://localhost:8080/"
    },
    "executionInfo": {
     "elapsed": 12,
     "status": "ok",
     "timestamp": 1759218977846,
     "user": {
      "displayName": "westras",
      "userId": "00366436898058476171"
     },
     "user_tz": -120
    },
    "id": "d360bdfb",
    "outputId": "85683502-f6e2-4e74-c932-1d931f9aa8c6"
   },
   "outputs": [],
   "source": [
    "# TODO\n",
    "class Person():\n",
    "  def __init__(self,ålder=0): #gör en innit med hemlig ålder\n",
    "    self.__ålder = ålder\n",
    "\n",
    "  @property #gör en property, den är våran getter\n",
    "  def ålder(self):\n",
    "    return self.__ålder #den returnar vårat värde för ålder\n",
    "\n",
    "  @ålder.setter #vi har äve en metod/setter som ger ett nytt värde\n",
    "  def ålder(self,ny_ålder):\n",
    "    if ny_ålder >= 0: #men bara om åldern är större eller lika med 0. är den mindre så behålls ålder vi satte i init metoden\n",
    "      self.__ålder = ny_ålder\n",
    "\n",
    "person = Person() #gör variabel av klassen\n",
    "person.ålder = 20 #skriver vår nya ålder med setter\n",
    "print(person.ålder)#och printar åldern med getter"
   ]
  },
  {
   "cell_type": "markdown",
   "id": "5412752e",
   "metadata": {
    "id": "5412752e"
   },
   "source": [
    "## Uppgift 4\n",
    "Skapa Bil med privat __hastighet och metoder gasa(), bromsa()."
   ]
  },
  {
   "cell_type": "markdown",
   "id": "620b2bcb",
   "metadata": {
    "id": "620b2bcb"
   },
   "source": [
    "\n",
    "Skapa en klass som heter `Bil`.\n",
    "\n",
    "Den här klassen ska simulera en enkel bil och hålla reda på dess hastighet.\n",
    "\n",
    "*   Klassen ska ha en intern variabel (som är privat) för att lagra bilens aktuella **hastighet**. Starta hastigheten på 0 när ett nytt `Bil`-objekt skapas.\n",
    "*   Skapa en metod som heter `gasa()`. Denna metod ska öka bilens hastighet. Tänk dig att du trycker på gaspedalen – hastigheten ökar med ett fast värde (t.ex. 10 enheter).\n",
    "*   Skapa en metod som heter `bromsa()`. Denna metod ska minska bilens hastighet. Tänk dig att du trycker på bromspedalen – hastigheten minskar med ett fast värde (t.ex. 10 enheter). Se till att hastigheten inte kan bli negativ (en bil kan inte ha mindre än 0 hastighet). Om hastigheten är 0 och du försöker bromsa, ska den stanna på 0.\n",
    "*   Lägg till en metod som returnerar den aktuella hastigheten, så att man kan se hur fort bilen kör.\n",
    "\n",
    "**Varför är hastigheten privat?**\n",
    "\n",
    "Genom att göra `__hastighet` privat säkerställer vi att hastigheten bara kan ändras genom metoderna `gasa()` och `bromsa()`. Detta förhindrar att någon utanför klassen plötsligt sätter hastigheten till ett godtyckligt (kanske ogiltigt) värde. Man måste \"köra\" bilen (använda metoderna) för att ändra hastigheten på ett kontrollerat sätt.\n",
    "\n",
    "**Exempel:**\n",
    "Du ska kunna skapa ett `Bil`-objekt, gasa för att öka hastigheten, bromsa för att minska hastigheten, och sedan se den aktuella hastigheten. Testa att bromsa när hastigheten är 0 för att se att den inte blir negativ."
   ]
  },
  {
   "cell_type": "code",
   "execution_count": null,
   "id": "f7df829c",
   "metadata": {
    "colab": {
     "base_uri": "https://localhost:8080/"
    },
    "executionInfo": {
     "elapsed": 22,
     "status": "ok",
     "timestamp": 1759220004771,
     "user": {
      "displayName": "westras",
      "userId": "00366436898058476171"
     },
     "user_tz": -120
    },
    "id": "f7df829c",
    "outputId": "878a497a-db25-4579-a1ac-dd6dec06a709"
   },
   "outputs": [],
   "source": [
    "# TODO\n",
    "class Bil():\n",
    "  def __init__(self,hastighet=0): #gör en innit med hemlig hastighet\n",
    "    self.__hastighet = hastighet\n",
    "\n",
    "  def gasa(self,acceleration=10):#metod för att gasa, acceleration har start värde 10\n",
    "    self.__hastighet =+ acceleration #nuvarande hastighet(0)+acceleration\n",
    "    return self #ny hastighet\n",
    "\n",
    "  def bromsa(self,bromsning=10): #metod för bromsning\n",
    "    if self.__hastighet >= bromsning: #om hastighet större än bromsning\n",
    "      self.__hastighet -= bromsning #nuvarande hastighet - bromsning\n",
    "    else:\n",
    "      self.__hastighet = 0 #om hastigheten är mindre än bromsning så borde den vara 0, bromsar man stillastående så rör sig bilen ej\n",
    "    return self #ny eller samma hastighet\n",
    "\n",
    "  def hastigheten(self): #metod för att visa hastighet\n",
    "    return self.__hastighet #returnerar hastighet\n",
    "\n",
    "bil = Bil() #gör variabel till klass\n",
    "bil.gasa().bromsa().hastigheten() #kör och printar koden, eftersom hastighet och bromsning är 10 blir hastigheten 0"
   ]
  },
  {
   "cell_type": "markdown",
   "id": "6b2862b4",
   "metadata": {
    "id": "6b2862b4"
   },
   "source": [
    "## Uppgift 5\n",
    "Skapa Termometer med gränser (0–100)."
   ]
  },
  {
   "cell_type": "markdown",
   "id": "09553d35",
   "metadata": {
    "id": "09553d35"
   },
   "source": [
    "\n",
    "Skapa en klass som heter `Termometer`.\n",
    "\n",
    "Den här klassen ska representera en termometer som mäter temperatur inom ett visst intervall.\n",
    "\n",
    "*   Klassen ska ha en intern variabel (som är privat) för att lagra den aktuella **temperaturen**.\n",
    "*   Använd en **property** för att hantera åtkomsten till temperaturen.\n",
    "\n",
    "**Vad är en property här?**\n",
    "\n",
    "Precis som i Uppgift 3, använder vi en **property** för att kontrollera hur temperaturen kan läsas och ändras.\n",
    "\n",
    "I den här uppgiften ska propertyn för temperaturen se till att:\n",
    "\n",
    "*   Låta oss hämta värdet på temperaturen (getter).\n",
    "*   **Viktigast:** Kontrollera värdet när vi försöker sätta en ny temperatur (setter). Vi vill säkerställa att temperaturen alltid ligger inom ett specifikt **gränsintervall**, t.ex. mellan 0 och 100 (grader Celsius eller någon annan enhet). Om någon försöker sätta en temperatur som är utanför detta intervall, ska det inte tillåtas (eller så kan du skriva ut ett meddelande som indikerar att värdet är ogiltigt).\n",
    "\n",
    "**Varför använda inkapsling och property här?**\n",
    "\n",
    "Att använda inkapsling (privat attribut `__v` för temperaturen) och en property är användbart för att:\n",
    "*   **Skydda data:** Förhindra att ogiltiga temperaturvärden (som under fryspunkten eller över kokpunkten i detta exempel) sparas direkt.\n",
    "*   **Kontrollera logik:** Lägga till valideringslogik i settern för att säkerställa att temperaturen alltid är inom de specificerade gränserna (0-100).\n",
    "*   **Göra koden säkrare och mer robust:** Genom att tvinga all temperaturändring genom settern kan du garantera att dina objekt alltid har en giltig temperatur.\n",
    "\n",
    "**Exempel:**\n",
    "Du ska kunna skapa ett `Termometer`-objekt med en starttemperatur, hämta temperaturen, och försöka sätta en ny temperatur. Testa att sätta temperaturer både inom och utanför intervallet 0-100 för att se hur din property hanterar det."
   ]
  },
  {
   "cell_type": "code",
   "execution_count": null,
   "id": "dc7be511",
   "metadata": {
    "colab": {
     "base_uri": "https://localhost:8080/",
     "height": 349
    },
    "executionInfo": {
     "elapsed": 20,
     "status": "error",
     "timestamp": 1759221446246,
     "user": {
      "displayName": "westras",
      "userId": "00366436898058476171"
     },
     "user_tz": -120
    },
    "id": "dc7be511",
    "outputId": "e90879b9-9775-44d4-b5c3-80b2da191d6b"
   },
   "outputs": [],
   "source": [
    "# TODO\n",
    "class Termometer():\n",
    "  def __init__(self, temp=10):\n",
    "   self.__temp = temp\n",
    "\n",
    "  @property\n",
    "  def temp(self):\n",
    "    return self.__temp\n",
    "\n",
    "  @temp.setter\n",
    "  def temp(self,ny_temp):\n",
    "    if ny_temp >= 0 and ny_temp <= 100:\n",
    "      self.__temp = ny_temp\n",
    "    else:\n",
    "      raise ValueError(\"Temperaturen måste vara mellan 0 och 100 grader\")\n",
    "\n",
    "termometer = Termometer()\n",
    "termometer.temp = 50\n",
    "print(termometer.temp)\n",
    "termometer.temp = -10\n",
    "print(termometer.temp)\n"
   ]
  },
  {
   "cell_type": "markdown",
   "id": "475926de",
   "metadata": {
    "id": "475926de"
   },
   "source": [
    "## Uppgift 6\n",
    "Skapa Lösenordshanterare där lösenord ej kan läsas direkt."
   ]
  },
  {
   "cell_type": "markdown",
   "id": "23ae4620",
   "metadata": {
    "id": "23ae4620"
   },
   "source": [
    "\n",
    "Skapa en klass som heter `Lösenordshanterare`.\n",
    "\n",
    "Den här klassen ska lagra ett lösenord på ett säkert sätt så att det **inte kan läsas direkt** utifrån klassen.\n",
    "\n",
    "*   Klassen ska ha en intern variabel (som är privat, t.ex. `__lösenord`) för att lagra det hemliga lösenordet. Sätt lösenordet när ett nytt `Lösenordshanterare`-objekt skapas.\n",
    "*   Istället för att ha en metod som ger tillbaka lösenordet, skapa en metod som heter `kontrollera(försökt_lösenord)`.\n",
    "\n",
    "**Varför kan lösenordet inte läsas direkt?**\n",
    "\n",
    "Genom att göra lösenordet privat (`__lösenord`) och **inte** skapa en metod som bara returnerar det, skyddar vi det från obehörig åtkomst. Ingen som använder din `Lösenordshanterare`-klass kan bara be om lösenordet och se vad det är. Detta är grundläggande för säkerhet.\n",
    "\n",
    "**Hur används `kontrollera()`?**\n",
    "\n",
    "Metoden `kontrollera(försökt_lösenord)` är det **enda sättet** att interagera med det lagrade lösenordet. När någon vill veta om ett visst lösenord är korrekt, ger de sitt förslag till `kontrollera()`. Metoden jämför det `försökt_lösenord` med det hemliga `__lösenord` som är lagrat inuti klassen.\n",
    "\n",
    "*   Om de matchar, returnerar `kontrollera()` `True` (lösenordet är korrekt).\n",
    "*   Om de inte matchar, returnerar `kontrollera()` `False` (lösenordet är felaktigt).\n",
    "\n",
    "På detta sätt kan du verifiera om någon har rätt lösenord **utan att någonsin avslöja det hemliga lösenordet**.\n",
    "\n",
    "**Exempel:**\n",
    "Du ska kunna skapa en `Lösenordshanterare` med ett lösenord, och sedan använda metoden `kontrollera()` för att testa om olika försök till lösenord är korrekta. Testa med både rätt och fel lösenord."
   ]
  },
  {
   "cell_type": "code",
   "execution_count": null,
   "id": "4760eb43",
   "metadata": {
    "colab": {
     "base_uri": "https://localhost:8080/"
    },
    "executionInfo": {
     "elapsed": 8,
     "status": "ok",
     "timestamp": 1759221760008,
     "user": {
      "displayName": "westras",
      "userId": "00366436898058476171"
     },
     "user_tz": -120
    },
    "id": "4760eb43",
    "outputId": "984d1afe-b9cb-4578-e130-1dac65431bfd"
   },
   "outputs": [],
   "source": [
    "# TODO\n",
    "class Lösenordshanterare(): #skapar en class\n",
    "  def __init__(self, lösenord): #vi har variabeln lösenord\n",
    "    self.__lösenord = lösenord#som vi gör hemligt\n",
    "\n",
    "  def kontrollera(self, försök): #vi har en metod kontrollera\n",
    "    if self.__lösenord == försök: #där vi kollar om det hemliga lösenordet är detsamma som försöket\n",
    "      return True #om de stämmer så returneras true\n",
    "    else:\n",
    "      return False #är det fel returneras false\n",
    "\n",
    "L = Lösenordshanterare(\"1234\")#vi sätter lösenordet till 1234\n",
    "print(L.kontrollera(\"1234\")) #och testar 1234, den stämmer och ger därmed true\n",
    "print(L.kontrollera(\"abcd\"))#testar även abcd som intestämmer och ger därmed false"
   ]
  },
  {
   "cell_type": "code",
   "execution_count": null,
   "id": "4c7fca78",
   "metadata": {
    "colab": {
     "base_uri": "https://localhost:8080/"
    },
    "id": "4c7fca78",
    "outputId": "c816f4a0-de45-400c-fa9c-727eb4ed40b9"
   },
   "outputs": [],
   "source": []
  },
  {
   "cell_type": "code",
   "execution_count": null,
   "id": "aef54440",
   "metadata": {
    "colab": {
     "base_uri": "https://localhost:8080/"
    },
    "id": "aef54440",
    "outputId": "6974af81-1bb8-43da-8916-6f40fd0a7c23"
   },
   "outputs": [],
   "source": [
    "# TODO\n",
    "\n",
    "\n",
    "\n"
   ]
  },
  {
   "cell_type": "markdown",
   "id": "e9b24f41",
   "metadata": {
    "id": "e9b24f41"
   },
   "source": [
    "## Uppgift 7\n",
    "Skapa Spelpoäng med lägg_till() och nollställ()."
   ]
  },
  {
   "cell_type": "markdown",
   "id": "08c577db",
   "metadata": {
    "id": "08c577db"
   },
   "source": [
    "\n",
    "Skapa en klass som heter `Spelpoäng`.\n",
    "\n",
    "Den här klassen ska hålla reda på en spelares poäng i ett spel.\n",
    "\n",
    "*   Klassen ska ha en intern variabel (som är privat) för att lagra den aktuella poängen. Börja poängen på 0 när ett nytt `Spelpoäng`-objekt skapas.\n",
    "*   Skapa en metod som heter `lägg_till(antal_poäng)`. Denna metod ska ta emot ett antal poäng och lägga till det till den aktuella poängen.\n",
    "*   Skapa en metod som heter `nollställ()`. Denna metod ska sätta den aktuella poängen tillbaka till 0.\n",
    "*   Lägg till en metod som returnerar den aktuella poängen, så att man kan se hur mycket poäng spelaren har.\n",
    "\n",
    "**Exempel:**\n",
    "Du ska kunna skapa ett poängobjekt, lägga till poäng, och sedan se den totala poängen. Du ska också kunna nollställa poängen."
   ]
  },
  {
   "cell_type": "code",
   "execution_count": null,
   "id": "8a5d76b0",
   "metadata": {
    "colab": {
     "base_uri": "https://localhost:8080/"
    },
    "executionInfo": {
     "elapsed": 15,
     "status": "ok",
     "timestamp": 1759222119064,
     "user": {
      "displayName": "westras",
      "userId": "00366436898058476171"
     },
     "user_tz": -120
    },
    "id": "8a5d76b0",
    "outputId": "fe3ae2f5-44eb-4588-bb10-a845d518e541"
   },
   "outputs": [],
   "source": [
    "# TODO\n",
    "class Spelpoäng():\n",
    "  def __init__(self,poäng=0): #gör en innit med hemlig poäng, startvärde 0 när spelpoäng skapas\n",
    "    self.__poäng = poäng\n",
    "\n",
    "  def lägg_till(self,poäng): #metod för att lägga till poäng\n",
    "    self.__poäng += poäng\n",
    "\n",
    "  def nollställ(self): #metod för att nollställa spelpoäng\n",
    "    self.__poäng = 0\n",
    "\n",
    "  def poäng(self): #metod för att visa poäng\n",
    "    return self.__poäng\n",
    "\n",
    "SP = Spelpoäng() #gör en variabel av klassen\n",
    "SP.lägg_till(10) #lägger till 10 spelpoäng\n",
    "print(SP.poäng())#visar det med vår visa metod\n",
    "SP.nollställ() #nollställer poängen\n",
    "print(SP.poäng())#visar det"
   ]
  },
  {
   "cell_type": "markdown",
   "id": "85bfb129",
   "metadata": {
    "id": "85bfb129"
   },
   "source": [
    "## Uppgift 8\n",
    "Skapa Produkt med pris som ej får vara negativt (property)."
   ]
  },
  {
   "cell_type": "markdown",
   "id": "673aee1a",
   "metadata": {
    "id": "673aee1a"
   },
   "source": [
    "\n",
    "Skapa en klass som heter `Produkt`.\n",
    "\n",
    "Den här klassen ska representera en produkt som har ett pris.\n",
    "\n",
    "*   Klassen ska ha en intern variabel (som är privat, t.ex. `__pris`) för att lagra produktens **pris**. Sätt priset när ett nytt `Produkt`-objekt skapas.\n",
    "*   Använd en **property** för att hantera åtkomsten till priset.\n",
    "\n",
    "**Vad är en property här?**\n",
    "\n",
    "Precis som i Uppgift 3 och 5, använder vi en **property** för att kontrollera hur priset kan läsas och ändras.\n",
    "\n",
    "I den här uppgiften ska propertyn för priset se till att:\n",
    "\n",
    "*   Låta oss hämta värdet på priset (getter).\n",
    "*   **Viktigast:** Kontrollera värdet när vi försöker sätta ett nytt pris (setter). Vi vill säkerställa att priset **inte kan vara negativt** (mindre än 0). Ett pris kan inte vara negativt i verkligheten. Om någon försöker sätta ett pris som är negativt, ska det inte tillåtas (eller så kan du skriva ut ett meddelande som indikerar att värdet är ogiltigt).\n",
    "\n",
    "**Varför använda inkapsling och property här?**\n",
    "\n",
    "Att använda inkapsling (privat attribut `__pris`) och en property är användbart för att:\n",
    "*   **Skydda data:** Förhindra att ogiltiga prisvärden (som negativa tal) sparas direkt.\n",
    "*   **Kontrollera logik:** Lägga till valideringslogik i settern för att säkerställa att priset alltid är ett giltigt värde (icke-negativt).\n",
    "*   **Upprätthålla dataintegritet:** Se till att data i ditt objekt är korrekt och meningsfullt enligt reglerna för vad ett pris ska vara.\n",
    "\n",
    "**Exempel:**\n",
    "Du ska kunna skapa ett `Produkt`-objekt med ett pris, hämta priset, och försöka sätta ett nytt pris. Testa att sätta priser som är positiva, noll och negativa för att se hur din property hanterar det."
   ]
  },
  {
   "cell_type": "code",
   "execution_count": null,
   "id": "1a8dab2d",
   "metadata": {
    "colab": {
     "base_uri": "https://localhost:8080/",
     "height": 315
    },
    "executionInfo": {
     "elapsed": 25,
     "status": "error",
     "timestamp": 1759222518515,
     "user": {
      "displayName": "westras",
      "userId": "00366436898058476171"
     },
     "user_tz": -120
    },
    "id": "1a8dab2d",
    "outputId": "e078ceb7-c833-4041-8b9e-ec8c8e3c990f"
   },
   "outputs": [],
   "source": [
    "# TODO\n",
    "class Produkt():\n",
    "  def __init__(self,pris=0): #gör en innit med hemlig pris\n",
    "    self.__pris = pris\n",
    "\n",
    "  @property #en getter för vårt nuvarande pris\n",
    "  def pris(self):\n",
    "    return self.__pris\n",
    "\n",
    "  @pris.setter #en setter som (när callad) ändrar priset på produkten\n",
    "  def pris(self,ny_pris):\n",
    "    if ny_pris >= 0: #om priset är större eller lika med 0 ändras priste\n",
    "      self.__pris = ny_pris\n",
    "    else:\n",
    "      raise ValueError(\"Priset måste vara ett positivt värde\") #är det mindre än 0 (-1 till exempel) får man felmeddelande\n",
    "\n",
    "produkt = Produkt() #gör variabel för klass\n",
    "produkt.pris = 100 #sätter priset till 100\n",
    "print(produkt.pris) #printas och fungerar\n",
    "produkt.pris = -100#ädras priset till ett tal under 0 kommer raisas ett valueerror\n"
   ]
  },
  {
   "cell_type": "markdown",
   "id": "9c5bdfe6",
   "metadata": {
    "id": "9c5bdfe6"
   },
   "source": [
    "## Uppgift 9\n",
    "Skapa en klass med read-only attribut (endast getter)."
   ]
  },
  {
   "cell_type": "markdown",
   "id": "ea5bd269",
   "metadata": {
    "id": "ea5bd269"
   },
   "source": [
    "\n",
    "Skapa en klass med ett **read-only attribut**.\n",
    "\n",
    "**Vad är ett read-only attribut?**\n",
    "\n",
    "Ett **read-only attribut** (eller skrivskyddat attribut) är en egenskap hos ett objekt som kan läsas (du kan se dess värde), men **inte kan ändras** efter att objektet har skapats eller attributet har satts initialt. Tänk på det som information som är \"inskriven i sten\" när objektet skapas.\n",
    "\n",
    "**Hur skapar man ett read-only attribut med inkapsling?**\n",
    "\n",
    "Du använder **inkapsling** och en **property** med **endast en getter-metod**.\n",
    "\n",
    "1.  **Privat attribut:** Lagra värdet i en intern, privat variabel (t.ex. `__id` eller `__konstant_värde`) inuti klassen. Detta förhindrar direkt åtkomst utifrån.\n",
    "2.  **Property med endast getter:** Skapa en property för attributet. Denna property ska bara ha en `@property`-dekorerad metod (gettern) som returnerar värdet från den privata variabeln. **Du ska inte ha en `@attributnamn.setter`-metod.**\n",
    "\n",
    "Eftersom det inte finns någon setter-metod kopplad till propertyn, kommer Python att förhindra att du ändrar attributets värde efter att objektet har skapats.\n",
    "\n",
    "**Varför är det användbart?**\n",
    "\n",
    "Att ha read-only attribut är bra när du har data som:\n",
    "*   Ska vara unikt för objektet och inte ändras under dess livstid (t.ex. ett ID-nummer).\n",
    "*   Representerar en konstant egenskap.\n",
    "*   Måste sättas vid skapandet men sedan skyddas från oavsiktliga ändringar.\n",
    "\n",
    "**Exempel:**\n",
    "Skapa en klass `UniktObjekt` med ett `id` som sätts när objektet skapas och sedan är read-only."
   ]
  },
  {
   "cell_type": "code",
   "execution_count": null,
   "id": "10591f4b",
   "metadata": {
    "colab": {
     "base_uri": "https://localhost:8080/"
    },
    "executionInfo": {
     "elapsed": 36,
     "status": "ok",
     "timestamp": 1759223175061,
     "user": {
      "displayName": "westras",
      "userId": "00366436898058476171"
     },
     "user_tz": -120
    },
    "id": "10591f4b",
    "outputId": "1c02bd71-380c-4b60-94f7-389db62505ac"
   },
   "outputs": [],
   "source": [
    "# TODO\n",
    "class SuperSäkertObjekt():\n",
    "  def __init__(self,säkertObjekt= \"Jag är super duper säker\"):\n",
    "   self.__säkertObjekt = säkertObjekt\n",
    "\n",
    "  @property\n",
    "  def säkertObjekt(self):\n",
    "    return self.__säkertObjekt\n",
    "\n",
    "SSO = SuperSäkertObjekt()\n",
    "\n",
    "print(SSO.säkertObjekt)"
   ]
  },
  {
   "cell_type": "markdown",
   "id": "37516d34",
   "metadata": {
    "id": "37516d34"
   },
   "source": [
    "## Uppgift 10\n",
    "Eget exempel på när inkapsling är användbar."
   ]
  },
  {
   "cell_type": "code",
   "execution_count": null,
   "id": "c2d33117",
   "metadata": {
    "colab": {
     "base_uri": "https://localhost:8080/"
    },
    "executionInfo": {
     "elapsed": 12,
     "status": "ok",
     "timestamp": 1759393027553,
     "user": {
      "displayName": "westras",
      "userId": "00366436898058476171"
     },
     "user_tz": -120
    },
    "id": "c2d33117",
    "outputId": "51eeb26d-8052-44fb-b376-2aaec6082b9b"
   },
   "outputs": [],
   "source": [
    "# TODO\n",
    "class personnummer():\n",
    "  def __init__(self,personnummer):\n",
    "    self.__personnummer = personnummer\n",
    "\n",
    "  @property\n",
    "  def personnummer(self):\n",
    "    return self.__personnummer\n",
    "\n",
    "  @personnummer.setter\n",
    "  def personnummer(self,nytt_personnummer):\n",
    "    if len(nytt_personnummer) == 11: #enda nya jag gjord med denna uppgift är len som vi använde i programmering 1\n",
    "      self.__personnummer = nytt_personnummer\n",
    "    else:\n",
    "      raise ValueError(\"Personnummret måste vara 11 siffror\")\n",
    "\n",
    "person = personnummer(\"67676767676\")\n",
    "print(person.personnummer)\n",
    "\n",
    "#kan användas för att gömma viktig data så att det inte visas av vem som helst"
   ]
  }
 ],
 "metadata": {
  "colab": {
   "provenance": [
    {
     "file_id": "1rAPOzl03ywU3NNlj-xqRSsm_Ck7-tObS",
     "timestamp": 1758617216327
    }
   ]
  },
  "kernelspec": {
   "display_name": "Python 3",
   "name": "python3"
  },
  "language_info": {
   "name": "python",
   "version": "3.12.5"
  }
 },
 "nbformat": 4,
 "nbformat_minor": 5
}
